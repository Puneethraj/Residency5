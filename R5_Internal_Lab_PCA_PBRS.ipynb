{
 "cells": [
  {
   "cell_type": "markdown",
   "metadata": {
    "colab_type": "text",
    "id": "0zAbYvv-WCve"
   },
   "source": [
    "# Principal Component Analysis with Cancer Data"
   ]
  },
  {
   "cell_type": "code",
   "execution_count": 2,
   "metadata": {
    "colab": {},
    "colab_type": "code",
    "id": "1waXlt6iWCvh"
   },
   "outputs": [],
   "source": [
    "#Import all the necessary modules\n",
    "#Import all the necessary modules\n",
    "import pandas as pd\n",
    "import numpy as np\n",
    "import seaborn as sns\n",
    "import os\n",
    "import matplotlib.pyplot as plt\n",
    "%matplotlib inline"
   ]
  },
  {
   "cell_type": "markdown",
   "metadata": {
    "colab_type": "text",
    "id": "6FZ90t1vWCvq"
   },
   "source": [
    "# Q1. Load the Data file ( Breast Cancer CSV) into Python DataFrame and view top 10 rows"
   ]
  },
  {
   "cell_type": "code",
   "execution_count": 3,
   "metadata": {
    "colab": {},
    "colab_type": "code",
    "id": "HdpptBPZSM4P"
   },
   "outputs": [
    {
     "data": {
      "text/html": [
       "<div>\n",
       "<style scoped>\n",
       "    .dataframe tbody tr th:only-of-type {\n",
       "        vertical-align: middle;\n",
       "    }\n",
       "\n",
       "    .dataframe tbody tr th {\n",
       "        vertical-align: top;\n",
       "    }\n",
       "\n",
       "    .dataframe thead th {\n",
       "        text-align: right;\n",
       "    }\n",
       "</style>\n",
       "<table border=\"1\" class=\"dataframe\">\n",
       "  <thead>\n",
       "    <tr style=\"text-align: right;\">\n",
       "      <th></th>\n",
       "      <th>ID</th>\n",
       "      <th>ClumpThickness</th>\n",
       "      <th>Cell Size</th>\n",
       "      <th>Cell Shape</th>\n",
       "      <th>Marginal Adhesion</th>\n",
       "      <th>Single Epithelial Cell Size</th>\n",
       "      <th>Bare Nuclei</th>\n",
       "      <th>Normal Nucleoli</th>\n",
       "      <th>Bland Chromatin</th>\n",
       "      <th>Mitoses</th>\n",
       "      <th>Class</th>\n",
       "    </tr>\n",
       "  </thead>\n",
       "  <tbody>\n",
       "    <tr>\n",
       "      <td>0</td>\n",
       "      <td>1000025</td>\n",
       "      <td>5</td>\n",
       "      <td>1</td>\n",
       "      <td>1</td>\n",
       "      <td>1</td>\n",
       "      <td>2</td>\n",
       "      <td>1</td>\n",
       "      <td>3</td>\n",
       "      <td>1</td>\n",
       "      <td>1</td>\n",
       "      <td>2</td>\n",
       "    </tr>\n",
       "    <tr>\n",
       "      <td>1</td>\n",
       "      <td>1002945</td>\n",
       "      <td>5</td>\n",
       "      <td>4</td>\n",
       "      <td>4</td>\n",
       "      <td>5</td>\n",
       "      <td>7</td>\n",
       "      <td>10</td>\n",
       "      <td>3</td>\n",
       "      <td>2</td>\n",
       "      <td>1</td>\n",
       "      <td>2</td>\n",
       "    </tr>\n",
       "    <tr>\n",
       "      <td>2</td>\n",
       "      <td>1015425</td>\n",
       "      <td>3</td>\n",
       "      <td>1</td>\n",
       "      <td>1</td>\n",
       "      <td>1</td>\n",
       "      <td>2</td>\n",
       "      <td>2</td>\n",
       "      <td>3</td>\n",
       "      <td>1</td>\n",
       "      <td>1</td>\n",
       "      <td>2</td>\n",
       "    </tr>\n",
       "    <tr>\n",
       "      <td>3</td>\n",
       "      <td>1016277</td>\n",
       "      <td>6</td>\n",
       "      <td>8</td>\n",
       "      <td>8</td>\n",
       "      <td>1</td>\n",
       "      <td>3</td>\n",
       "      <td>4</td>\n",
       "      <td>3</td>\n",
       "      <td>7</td>\n",
       "      <td>1</td>\n",
       "      <td>2</td>\n",
       "    </tr>\n",
       "    <tr>\n",
       "      <td>4</td>\n",
       "      <td>1017023</td>\n",
       "      <td>4</td>\n",
       "      <td>1</td>\n",
       "      <td>1</td>\n",
       "      <td>3</td>\n",
       "      <td>2</td>\n",
       "      <td>1</td>\n",
       "      <td>3</td>\n",
       "      <td>1</td>\n",
       "      <td>1</td>\n",
       "      <td>2</td>\n",
       "    </tr>\n",
       "    <tr>\n",
       "      <td>5</td>\n",
       "      <td>1017122</td>\n",
       "      <td>8</td>\n",
       "      <td>10</td>\n",
       "      <td>10</td>\n",
       "      <td>8</td>\n",
       "      <td>7</td>\n",
       "      <td>10</td>\n",
       "      <td>9</td>\n",
       "      <td>7</td>\n",
       "      <td>1</td>\n",
       "      <td>4</td>\n",
       "    </tr>\n",
       "    <tr>\n",
       "      <td>6</td>\n",
       "      <td>1018099</td>\n",
       "      <td>1</td>\n",
       "      <td>1</td>\n",
       "      <td>1</td>\n",
       "      <td>1</td>\n",
       "      <td>2</td>\n",
       "      <td>10</td>\n",
       "      <td>3</td>\n",
       "      <td>1</td>\n",
       "      <td>1</td>\n",
       "      <td>2</td>\n",
       "    </tr>\n",
       "    <tr>\n",
       "      <td>7</td>\n",
       "      <td>1018561</td>\n",
       "      <td>2</td>\n",
       "      <td>1</td>\n",
       "      <td>2</td>\n",
       "      <td>1</td>\n",
       "      <td>2</td>\n",
       "      <td>1</td>\n",
       "      <td>3</td>\n",
       "      <td>1</td>\n",
       "      <td>1</td>\n",
       "      <td>2</td>\n",
       "    </tr>\n",
       "    <tr>\n",
       "      <td>8</td>\n",
       "      <td>1033078</td>\n",
       "      <td>2</td>\n",
       "      <td>1</td>\n",
       "      <td>1</td>\n",
       "      <td>1</td>\n",
       "      <td>2</td>\n",
       "      <td>1</td>\n",
       "      <td>1</td>\n",
       "      <td>1</td>\n",
       "      <td>5</td>\n",
       "      <td>2</td>\n",
       "    </tr>\n",
       "    <tr>\n",
       "      <td>9</td>\n",
       "      <td>1033078</td>\n",
       "      <td>4</td>\n",
       "      <td>2</td>\n",
       "      <td>1</td>\n",
       "      <td>1</td>\n",
       "      <td>2</td>\n",
       "      <td>1</td>\n",
       "      <td>2</td>\n",
       "      <td>1</td>\n",
       "      <td>1</td>\n",
       "      <td>2</td>\n",
       "    </tr>\n",
       "  </tbody>\n",
       "</table>\n",
       "</div>"
      ],
      "text/plain": [
       "        ID  ClumpThickness  Cell Size  Cell Shape  Marginal Adhesion  \\\n",
       "0  1000025               5          1           1                  1   \n",
       "1  1002945               5          4           4                  5   \n",
       "2  1015425               3          1           1                  1   \n",
       "3  1016277               6          8           8                  1   \n",
       "4  1017023               4          1           1                  3   \n",
       "5  1017122               8         10          10                  8   \n",
       "6  1018099               1          1           1                  1   \n",
       "7  1018561               2          1           2                  1   \n",
       "8  1033078               2          1           1                  1   \n",
       "9  1033078               4          2           1                  1   \n",
       "\n",
       "   Single Epithelial Cell Size Bare Nuclei  Normal Nucleoli  Bland Chromatin  \\\n",
       "0                            2           1                3                1   \n",
       "1                            7          10                3                2   \n",
       "2                            2           2                3                1   \n",
       "3                            3           4                3                7   \n",
       "4                            2           1                3                1   \n",
       "5                            7          10                9                7   \n",
       "6                            2          10                3                1   \n",
       "7                            2           1                3                1   \n",
       "8                            2           1                1                1   \n",
       "9                            2           1                2                1   \n",
       "\n",
       "   Mitoses  Class  \n",
       "0        1      2  \n",
       "1        1      2  \n",
       "2        1      2  \n",
       "3        1      2  \n",
       "4        1      2  \n",
       "5        1      4  \n",
       "6        1      2  \n",
       "7        1      2  \n",
       "8        5      2  \n",
       "9        1      2  "
      ]
     },
     "execution_count": 3,
     "metadata": {},
     "output_type": "execute_result"
    }
   ],
   "source": [
    "cancer_df = pd.read_csv(\"breast-cancer-wisconsin-data.csv\")\n",
    "cancer_df.head(10)"
   ]
  },
  {
   "cell_type": "code",
   "execution_count": 128,
   "metadata": {
    "colab": {},
    "colab_type": "code",
    "id": "xusO2ruNWCv4"
   },
   "outputs": [],
   "source": [
    "  # Id columns is to identify rows hence can be skipped in analysis\n",
    "  # All columns have numerical values\n",
    "  # Class would be the target variable. Should be removed when PCA is done"
   ]
  },
  {
   "cell_type": "markdown",
   "metadata": {
    "colab_type": "text",
    "id": "KYTFwE0iWCv_"
   },
   "source": [
    "# Q2 Print the datatypes of each column and the shape of the dataset. Perform descriptive analysis "
   ]
  },
  {
   "cell_type": "code",
   "execution_count": 4,
   "metadata": {
    "colab": {},
    "colab_type": "code",
    "id": "abAqUIqjSM4X"
   },
   "outputs": [
    {
     "data": {
      "text/plain": [
       "ID                              int64\n",
       "ClumpThickness                  int64\n",
       "Cell Size                       int64\n",
       "Cell Shape                      int64\n",
       "Marginal Adhesion               int64\n",
       "Single Epithelial Cell Size     int64\n",
       "Bare Nuclei                    object\n",
       "Normal Nucleoli                 int64\n",
       "Bland Chromatin                 int64\n",
       "Mitoses                         int64\n",
       "Class                           int64\n",
       "dtype: object"
      ]
     },
     "execution_count": 4,
     "metadata": {},
     "output_type": "execute_result"
    }
   ],
   "source": [
    "#Bare Nuclei data is of type object\n",
    "cancer_df.dtypes"
   ]
  },
  {
   "cell_type": "code",
   "execution_count": 5,
   "metadata": {},
   "outputs": [
    {
     "data": {
      "text/plain": [
       "(699, 11)"
      ]
     },
     "execution_count": 5,
     "metadata": {},
     "output_type": "execute_result"
    }
   ],
   "source": [
    "cancer_df.shape"
   ]
  },
  {
   "cell_type": "code",
   "execution_count": 6,
   "metadata": {},
   "outputs": [
    {
     "data": {
      "text/html": [
       "<div>\n",
       "<style scoped>\n",
       "    .dataframe tbody tr th:only-of-type {\n",
       "        vertical-align: middle;\n",
       "    }\n",
       "\n",
       "    .dataframe tbody tr th {\n",
       "        vertical-align: top;\n",
       "    }\n",
       "\n",
       "    .dataframe thead th {\n",
       "        text-align: right;\n",
       "    }\n",
       "</style>\n",
       "<table border=\"1\" class=\"dataframe\">\n",
       "  <thead>\n",
       "    <tr style=\"text-align: right;\">\n",
       "      <th></th>\n",
       "      <th>count</th>\n",
       "      <th>mean</th>\n",
       "      <th>std</th>\n",
       "      <th>min</th>\n",
       "      <th>25%</th>\n",
       "      <th>50%</th>\n",
       "      <th>75%</th>\n",
       "      <th>max</th>\n",
       "    </tr>\n",
       "  </thead>\n",
       "  <tbody>\n",
       "    <tr>\n",
       "      <td>ID</td>\n",
       "      <td>699.0</td>\n",
       "      <td>1.071704e+06</td>\n",
       "      <td>617095.729819</td>\n",
       "      <td>61634.0</td>\n",
       "      <td>870688.5</td>\n",
       "      <td>1171710.0</td>\n",
       "      <td>1238298.0</td>\n",
       "      <td>13454352.0</td>\n",
       "    </tr>\n",
       "    <tr>\n",
       "      <td>ClumpThickness</td>\n",
       "      <td>699.0</td>\n",
       "      <td>4.417740e+00</td>\n",
       "      <td>2.815741</td>\n",
       "      <td>1.0</td>\n",
       "      <td>2.0</td>\n",
       "      <td>4.0</td>\n",
       "      <td>6.0</td>\n",
       "      <td>10.0</td>\n",
       "    </tr>\n",
       "    <tr>\n",
       "      <td>Cell Size</td>\n",
       "      <td>699.0</td>\n",
       "      <td>3.134478e+00</td>\n",
       "      <td>3.051459</td>\n",
       "      <td>1.0</td>\n",
       "      <td>1.0</td>\n",
       "      <td>1.0</td>\n",
       "      <td>5.0</td>\n",
       "      <td>10.0</td>\n",
       "    </tr>\n",
       "    <tr>\n",
       "      <td>Cell Shape</td>\n",
       "      <td>699.0</td>\n",
       "      <td>3.207439e+00</td>\n",
       "      <td>2.971913</td>\n",
       "      <td>1.0</td>\n",
       "      <td>1.0</td>\n",
       "      <td>1.0</td>\n",
       "      <td>5.0</td>\n",
       "      <td>10.0</td>\n",
       "    </tr>\n",
       "    <tr>\n",
       "      <td>Marginal Adhesion</td>\n",
       "      <td>699.0</td>\n",
       "      <td>2.806867e+00</td>\n",
       "      <td>2.855379</td>\n",
       "      <td>1.0</td>\n",
       "      <td>1.0</td>\n",
       "      <td>1.0</td>\n",
       "      <td>4.0</td>\n",
       "      <td>10.0</td>\n",
       "    </tr>\n",
       "    <tr>\n",
       "      <td>Single Epithelial Cell Size</td>\n",
       "      <td>699.0</td>\n",
       "      <td>3.216023e+00</td>\n",
       "      <td>2.214300</td>\n",
       "      <td>1.0</td>\n",
       "      <td>2.0</td>\n",
       "      <td>2.0</td>\n",
       "      <td>4.0</td>\n",
       "      <td>10.0</td>\n",
       "    </tr>\n",
       "    <tr>\n",
       "      <td>Normal Nucleoli</td>\n",
       "      <td>699.0</td>\n",
       "      <td>3.437768e+00</td>\n",
       "      <td>2.438364</td>\n",
       "      <td>1.0</td>\n",
       "      <td>2.0</td>\n",
       "      <td>3.0</td>\n",
       "      <td>5.0</td>\n",
       "      <td>10.0</td>\n",
       "    </tr>\n",
       "    <tr>\n",
       "      <td>Bland Chromatin</td>\n",
       "      <td>699.0</td>\n",
       "      <td>2.866953e+00</td>\n",
       "      <td>3.053634</td>\n",
       "      <td>1.0</td>\n",
       "      <td>1.0</td>\n",
       "      <td>1.0</td>\n",
       "      <td>4.0</td>\n",
       "      <td>10.0</td>\n",
       "    </tr>\n",
       "    <tr>\n",
       "      <td>Mitoses</td>\n",
       "      <td>699.0</td>\n",
       "      <td>1.589413e+00</td>\n",
       "      <td>1.715078</td>\n",
       "      <td>1.0</td>\n",
       "      <td>1.0</td>\n",
       "      <td>1.0</td>\n",
       "      <td>1.0</td>\n",
       "      <td>10.0</td>\n",
       "    </tr>\n",
       "    <tr>\n",
       "      <td>Class</td>\n",
       "      <td>699.0</td>\n",
       "      <td>2.689557e+00</td>\n",
       "      <td>0.951273</td>\n",
       "      <td>2.0</td>\n",
       "      <td>2.0</td>\n",
       "      <td>2.0</td>\n",
       "      <td>4.0</td>\n",
       "      <td>4.0</td>\n",
       "    </tr>\n",
       "  </tbody>\n",
       "</table>\n",
       "</div>"
      ],
      "text/plain": [
       "                             count          mean            std      min  \\\n",
       "ID                           699.0  1.071704e+06  617095.729819  61634.0   \n",
       "ClumpThickness               699.0  4.417740e+00       2.815741      1.0   \n",
       "Cell Size                    699.0  3.134478e+00       3.051459      1.0   \n",
       "Cell Shape                   699.0  3.207439e+00       2.971913      1.0   \n",
       "Marginal Adhesion            699.0  2.806867e+00       2.855379      1.0   \n",
       "Single Epithelial Cell Size  699.0  3.216023e+00       2.214300      1.0   \n",
       "Normal Nucleoli              699.0  3.437768e+00       2.438364      1.0   \n",
       "Bland Chromatin              699.0  2.866953e+00       3.053634      1.0   \n",
       "Mitoses                      699.0  1.589413e+00       1.715078      1.0   \n",
       "Class                        699.0  2.689557e+00       0.951273      2.0   \n",
       "\n",
       "                                  25%        50%        75%         max  \n",
       "ID                           870688.5  1171710.0  1238298.0  13454352.0  \n",
       "ClumpThickness                    2.0        4.0        6.0        10.0  \n",
       "Cell Size                         1.0        1.0        5.0        10.0  \n",
       "Cell Shape                        1.0        1.0        5.0        10.0  \n",
       "Marginal Adhesion                 1.0        1.0        4.0        10.0  \n",
       "Single Epithelial Cell Size       2.0        2.0        4.0        10.0  \n",
       "Normal Nucleoli                   2.0        3.0        5.0        10.0  \n",
       "Bland Chromatin                   1.0        1.0        4.0        10.0  \n",
       "Mitoses                           1.0        1.0        1.0        10.0  \n",
       "Class                             2.0        2.0        4.0         4.0  "
      ]
     },
     "execution_count": 6,
     "metadata": {},
     "output_type": "execute_result"
    }
   ],
   "source": [
    "cancer_df.describe().transpose()"
   ]
  },
  {
   "cell_type": "code",
   "execution_count": 132,
   "metadata": {},
   "outputs": [],
   "source": [
    "# Bare Nuclei is not described as it has some interger value, which need to be treated\n",
    "# all attributes have values between 1 to 10 \n",
    "# Mitoses attribute has valie 1 for 75% or morw patients \n",
    "# except ClumpThickness attribute or all other attributes are looking left skewed"
   ]
  },
  {
   "cell_type": "markdown",
   "metadata": {
    "colab_type": "text",
    "id": "ecghJZJIWCwW"
   },
   "source": [
    "# Q3 Check for missing value check, incorrect data, duplicate data and perform imputation with mean, median, mode as necessary.\n"
   ]
  },
  {
   "cell_type": "code",
   "execution_count": 178,
   "metadata": {
    "colab": {},
    "colab_type": "code",
    "id": "49KjoukMSM4b"
   },
   "outputs": [
    {
     "name": "stdout",
     "output_type": "stream",
     "text": [
      "<class 'pandas.core.frame.DataFrame'>\n",
      "RangeIndex: 699 entries, 0 to 698\n",
      "Data columns (total 11 columns):\n",
      "ID                             699 non-null int64\n",
      "ClumpThickness                 699 non-null int64\n",
      "Cell Size                      699 non-null int64\n",
      "Cell Shape                     699 non-null int64\n",
      "Marginal Adhesion              699 non-null int64\n",
      "Single Epithelial Cell Size    699 non-null int64\n",
      "Bare Nuclei                    699 non-null object\n",
      "Normal Nucleoli                699 non-null int64\n",
      "Bland Chromatin                699 non-null int64\n",
      "Mitoses                        699 non-null int64\n",
      "Class                          699 non-null int64\n",
      "dtypes: int64(10), object(1)\n",
      "memory usage: 60.2+ KB\n"
     ]
    }
   ],
   "source": [
    "# We could see \"?\" values in column, this should be removed from data set\n",
    "# Check for missing value in any other column\n",
    "# All the attributes are having same number of values\n",
    "cancer_df.info()"
   ]
  },
  {
   "cell_type": "code",
   "execution_count": 8,
   "metadata": {},
   "outputs": [
    {
     "data": {
      "text/plain": [
       "(16, 11)"
      ]
     },
     "execution_count": 8,
     "metadata": {},
     "output_type": "execute_result"
    }
   ],
   "source": [
    "# No missing values found. So let us try to remove ? from bare nuclei column\n",
    "# Get count of rows having ?\n",
    "non_real_count = cancer_df[cancer_df[\"Bare Nuclei\"] == \"?\"]\n",
    "non_real_count.shape"
   ]
  },
  {
   "cell_type": "code",
   "execution_count": 9,
   "metadata": {
    "colab": {},
    "colab_type": "code",
    "id": "jAmWPaXpWCw3"
   },
   "outputs": [],
   "source": [
    "# 16 values are corrupted. We can either delete them as it forms roughly 2% of data.\n",
    "# Here we would like to impute it with suitable values - Imputing with mode value\n",
    "bare_nuclei_mode = cancer_df[\"Bare Nuclei\"].mode()\n",
    "cancer_df.replace(\"?\", bare_nuclei_mode[0], inplace=True)"
   ]
  },
  {
   "cell_type": "code",
   "execution_count": 10,
   "metadata": {},
   "outputs": [
    {
     "data": {
      "text/plain": [
       "(0, 11)"
      ]
     },
     "execution_count": 10,
     "metadata": {},
     "output_type": "execute_result"
    }
   ],
   "source": [
    "#Checking rows count with value ?\n",
    "cancer_df[cancer_df[\"Bare Nuclei\"] == \"?\"].shape"
   ]
  },
  {
   "cell_type": "code",
   "execution_count": 14,
   "metadata": {},
   "outputs": [
    {
     "data": {
      "text/plain": [
       "ID                             int64\n",
       "ClumpThickness                 int64\n",
       "Cell Size                      int64\n",
       "Cell Shape                     int64\n",
       "Marginal Adhesion              int64\n",
       "Single Epithelial Cell Size    int64\n",
       "Bare Nuclei                    int64\n",
       "Normal Nucleoli                int64\n",
       "Bland Chromatin                int64\n",
       "Mitoses                        int64\n",
       "Class                          int64\n",
       "dtype: object"
      ]
     },
     "execution_count": 14,
     "metadata": {},
     "output_type": "execute_result"
    }
   ],
   "source": [
    "#Changing Bare Nuclei attribute type to integer\n",
    "cancer_df = cancer_df.astype({\"Bare Nuclei\":int})\n",
    "cancer_df.dtypes"
   ]
  },
  {
   "cell_type": "code",
   "execution_count": 273,
   "metadata": {},
   "outputs": [
    {
     "data": {
      "text/plain": [
       "(690, 11)"
      ]
     },
     "execution_count": 273,
     "metadata": {},
     "output_type": "execute_result"
    }
   ],
   "source": [
    "cancer_df.drop_duplicates(inplace=True)\n",
    "cancer_df.shape"
   ]
  },
  {
   "cell_type": "code",
   "execution_count": 22,
   "metadata": {},
   "outputs": [
    {
     "data": {
      "text/plain": [
       "(9, 11)"
      ]
     },
     "execution_count": 22,
     "metadata": {},
     "output_type": "execute_result"
    }
   ],
   "source": [
    "#Duplicate row count\n",
    "cancer_df[cancer_df.duplicated()].shape"
   ]
  },
  {
   "cell_type": "code",
   "execution_count": 27,
   "metadata": {},
   "outputs": [
    {
     "data": {
      "text/plain": [
       "(0, 11)"
      ]
     },
     "execution_count": 27,
     "metadata": {},
     "output_type": "execute_result"
    }
   ],
   "source": [
    "#Remove duplicate rows\n",
    "cancer_df.drop_duplicates(inplace=True)\n",
    "cancer_df[cancer_df.duplicated()].shape"
   ]
  },
  {
   "cell_type": "code",
   "execution_count": 28,
   "metadata": {},
   "outputs": [
    {
     "data": {
      "text/plain": [
       "(690, 11)"
      ]
     },
     "execution_count": 28,
     "metadata": {},
     "output_type": "execute_result"
    }
   ],
   "source": [
    "#Number of rows remaining after dropping duplicates\n",
    "cancer_df.shape"
   ]
  },
  {
   "cell_type": "markdown",
   "metadata": {
    "colab_type": "text",
    "id": "YAu8NvGaWCxr"
   },
   "source": [
    "# Q4. Perform bi variate analysis including correlation, pairplots and state the inferences. \n"
   ]
  },
  {
   "cell_type": "code",
   "execution_count": 182,
   "metadata": {
    "colab": {},
    "colab_type": "code",
    "id": "nu6J2sWuSM4m"
   },
   "outputs": [
    {
     "data": {
      "text/html": [
       "<div>\n",
       "<style scoped>\n",
       "    .dataframe tbody tr th:only-of-type {\n",
       "        vertical-align: middle;\n",
       "    }\n",
       "\n",
       "    .dataframe tbody tr th {\n",
       "        vertical-align: top;\n",
       "    }\n",
       "\n",
       "    .dataframe thead th {\n",
       "        text-align: right;\n",
       "    }\n",
       "</style>\n",
       "<table border=\"1\" class=\"dataframe\">\n",
       "  <thead>\n",
       "    <tr style=\"text-align: right;\">\n",
       "      <th></th>\n",
       "      <th>ID</th>\n",
       "      <th>ClumpThickness</th>\n",
       "      <th>Cell Size</th>\n",
       "      <th>Cell Shape</th>\n",
       "      <th>Marginal Adhesion</th>\n",
       "      <th>Single Epithelial Cell Size</th>\n",
       "      <th>Normal Nucleoli</th>\n",
       "      <th>Bland Chromatin</th>\n",
       "      <th>Mitoses</th>\n",
       "      <th>Class</th>\n",
       "    </tr>\n",
       "  </thead>\n",
       "  <tbody>\n",
       "    <tr>\n",
       "      <td>ID</td>\n",
       "      <td>1.000000</td>\n",
       "      <td>-0.059592</td>\n",
       "      <td>-0.043856</td>\n",
       "      <td>-0.042803</td>\n",
       "      <td>-0.066771</td>\n",
       "      <td>-0.048102</td>\n",
       "      <td>-0.059802</td>\n",
       "      <td>-0.054517</td>\n",
       "      <td>-0.036286</td>\n",
       "      <td>-0.080084</td>\n",
       "    </tr>\n",
       "    <tr>\n",
       "      <td>ClumpThickness</td>\n",
       "      <td>-0.059592</td>\n",
       "      <td>1.000000</td>\n",
       "      <td>0.643173</td>\n",
       "      <td>0.653589</td>\n",
       "      <td>0.487715</td>\n",
       "      <td>0.517253</td>\n",
       "      <td>0.561063</td>\n",
       "      <td>0.535507</td>\n",
       "      <td>0.350196</td>\n",
       "      <td>0.716812</td>\n",
       "    </tr>\n",
       "    <tr>\n",
       "      <td>Cell Size</td>\n",
       "      <td>-0.043856</td>\n",
       "      <td>0.643173</td>\n",
       "      <td>1.000000</td>\n",
       "      <td>0.905349</td>\n",
       "      <td>0.712933</td>\n",
       "      <td>0.746982</td>\n",
       "      <td>0.759632</td>\n",
       "      <td>0.727073</td>\n",
       "      <td>0.459918</td>\n",
       "      <td>0.817586</td>\n",
       "    </tr>\n",
       "    <tr>\n",
       "      <td>Cell Shape</td>\n",
       "      <td>-0.042803</td>\n",
       "      <td>0.653589</td>\n",
       "      <td>0.905349</td>\n",
       "      <td>1.000000</td>\n",
       "      <td>0.690782</td>\n",
       "      <td>0.714243</td>\n",
       "      <td>0.738576</td>\n",
       "      <td>0.724519</td>\n",
       "      <td>0.440435</td>\n",
       "      <td>0.817551</td>\n",
       "    </tr>\n",
       "    <tr>\n",
       "      <td>Marginal Adhesion</td>\n",
       "      <td>-0.066771</td>\n",
       "      <td>0.487715</td>\n",
       "      <td>0.712933</td>\n",
       "      <td>0.690782</td>\n",
       "      <td>1.000000</td>\n",
       "      <td>0.608281</td>\n",
       "      <td>0.669860</td>\n",
       "      <td>0.602228</td>\n",
       "      <td>0.417008</td>\n",
       "      <td>0.701175</td>\n",
       "    </tr>\n",
       "    <tr>\n",
       "      <td>Single Epithelial Cell Size</td>\n",
       "      <td>-0.048102</td>\n",
       "      <td>0.517253</td>\n",
       "      <td>0.746982</td>\n",
       "      <td>0.714243</td>\n",
       "      <td>0.608281</td>\n",
       "      <td>1.000000</td>\n",
       "      <td>0.620526</td>\n",
       "      <td>0.633880</td>\n",
       "      <td>0.482517</td>\n",
       "      <td>0.681063</td>\n",
       "    </tr>\n",
       "    <tr>\n",
       "      <td>Normal Nucleoli</td>\n",
       "      <td>-0.059802</td>\n",
       "      <td>0.561063</td>\n",
       "      <td>0.759632</td>\n",
       "      <td>0.738576</td>\n",
       "      <td>0.669860</td>\n",
       "      <td>0.620526</td>\n",
       "      <td>1.000000</td>\n",
       "      <td>0.669099</td>\n",
       "      <td>0.343769</td>\n",
       "      <td>0.756736</td>\n",
       "    </tr>\n",
       "    <tr>\n",
       "      <td>Bland Chromatin</td>\n",
       "      <td>-0.054517</td>\n",
       "      <td>0.535507</td>\n",
       "      <td>0.727073</td>\n",
       "      <td>0.724519</td>\n",
       "      <td>0.602228</td>\n",
       "      <td>0.633880</td>\n",
       "      <td>0.669099</td>\n",
       "      <td>1.000000</td>\n",
       "      <td>0.427490</td>\n",
       "      <td>0.715363</td>\n",
       "    </tr>\n",
       "    <tr>\n",
       "      <td>Mitoses</td>\n",
       "      <td>-0.036286</td>\n",
       "      <td>0.350196</td>\n",
       "      <td>0.459918</td>\n",
       "      <td>0.440435</td>\n",
       "      <td>0.417008</td>\n",
       "      <td>0.482517</td>\n",
       "      <td>0.343769</td>\n",
       "      <td>0.427490</td>\n",
       "      <td>1.000000</td>\n",
       "      <td>0.423947</td>\n",
       "    </tr>\n",
       "    <tr>\n",
       "      <td>Class</td>\n",
       "      <td>-0.080084</td>\n",
       "      <td>0.716812</td>\n",
       "      <td>0.817586</td>\n",
       "      <td>0.817551</td>\n",
       "      <td>0.701175</td>\n",
       "      <td>0.681063</td>\n",
       "      <td>0.756736</td>\n",
       "      <td>0.715363</td>\n",
       "      <td>0.423947</td>\n",
       "      <td>1.000000</td>\n",
       "    </tr>\n",
       "  </tbody>\n",
       "</table>\n",
       "</div>"
      ],
      "text/plain": [
       "                                   ID  ClumpThickness  Cell Size  Cell Shape  \\\n",
       "ID                           1.000000       -0.059592  -0.043856   -0.042803   \n",
       "ClumpThickness              -0.059592        1.000000   0.643173    0.653589   \n",
       "Cell Size                   -0.043856        0.643173   1.000000    0.905349   \n",
       "Cell Shape                  -0.042803        0.653589   0.905349    1.000000   \n",
       "Marginal Adhesion           -0.066771        0.487715   0.712933    0.690782   \n",
       "Single Epithelial Cell Size -0.048102        0.517253   0.746982    0.714243   \n",
       "Normal Nucleoli             -0.059802        0.561063   0.759632    0.738576   \n",
       "Bland Chromatin             -0.054517        0.535507   0.727073    0.724519   \n",
       "Mitoses                     -0.036286        0.350196   0.459918    0.440435   \n",
       "Class                       -0.080084        0.716812   0.817586    0.817551   \n",
       "\n",
       "                             Marginal Adhesion  Single Epithelial Cell Size  \\\n",
       "ID                                   -0.066771                    -0.048102   \n",
       "ClumpThickness                        0.487715                     0.517253   \n",
       "Cell Size                             0.712933                     0.746982   \n",
       "Cell Shape                            0.690782                     0.714243   \n",
       "Marginal Adhesion                     1.000000                     0.608281   \n",
       "Single Epithelial Cell Size           0.608281                     1.000000   \n",
       "Normal Nucleoli                       0.669860                     0.620526   \n",
       "Bland Chromatin                       0.602228                     0.633880   \n",
       "Mitoses                               0.417008                     0.482517   \n",
       "Class                                 0.701175                     0.681063   \n",
       "\n",
       "                             Normal Nucleoli  Bland Chromatin   Mitoses  \\\n",
       "ID                                 -0.059802        -0.054517 -0.036286   \n",
       "ClumpThickness                      0.561063         0.535507  0.350196   \n",
       "Cell Size                           0.759632         0.727073  0.459918   \n",
       "Cell Shape                          0.738576         0.724519  0.440435   \n",
       "Marginal Adhesion                   0.669860         0.602228  0.417008   \n",
       "Single Epithelial Cell Size         0.620526         0.633880  0.482517   \n",
       "Normal Nucleoli                     1.000000         0.669099  0.343769   \n",
       "Bland Chromatin                     0.669099         1.000000  0.427490   \n",
       "Mitoses                             0.343769         0.427490  1.000000   \n",
       "Class                               0.756736         0.715363  0.423947   \n",
       "\n",
       "                                Class  \n",
       "ID                          -0.080084  \n",
       "ClumpThickness               0.716812  \n",
       "Cell Size                    0.817586  \n",
       "Cell Shape                   0.817551  \n",
       "Marginal Adhesion            0.701175  \n",
       "Single Epithelial Cell Size  0.681063  \n",
       "Normal Nucleoli              0.756736  \n",
       "Bland Chromatin              0.715363  \n",
       "Mitoses                      0.423947  \n",
       "Class                        1.000000  "
      ]
     },
     "execution_count": 182,
     "metadata": {},
     "output_type": "execute_result"
    }
   ],
   "source": [
    "# Check for correlation of variable\n",
    "cancer_df.corr()"
   ]
  },
  {
   "cell_type": "code",
   "execution_count": 102,
   "metadata": {
    "colab": {},
    "colab_type": "code",
    "id": "ysZh50iDWCxz"
   },
   "outputs": [],
   "source": [
    "# Cell size shows high significance with cell shape,marginal adhesion, single epithelial cell size,bare nuclei, normal nucleoli \n",
    "# bland chromatin has good correlation with all other attributes except Mitoses\n",
    "# Target variable shows high correlation with most of these variables"
   ]
  },
  {
   "cell_type": "code",
   "execution_count": 29,
   "metadata": {},
   "outputs": [
    {
     "data": {
      "text/html": [
       "<div>\n",
       "<style scoped>\n",
       "    .dataframe tbody tr th:only-of-type {\n",
       "        vertical-align: middle;\n",
       "    }\n",
       "\n",
       "    .dataframe tbody tr th {\n",
       "        vertical-align: top;\n",
       "    }\n",
       "\n",
       "    .dataframe thead th {\n",
       "        text-align: right;\n",
       "    }\n",
       "</style>\n",
       "<table border=\"1\" class=\"dataframe\">\n",
       "  <thead>\n",
       "    <tr style=\"text-align: right;\">\n",
       "      <th></th>\n",
       "      <th>ClumpThickness</th>\n",
       "      <th>Cell Size</th>\n",
       "      <th>Cell Shape</th>\n",
       "      <th>Marginal Adhesion</th>\n",
       "      <th>Single Epithelial Cell Size</th>\n",
       "      <th>Bare Nuclei</th>\n",
       "      <th>Normal Nucleoli</th>\n",
       "      <th>Bland Chromatin</th>\n",
       "      <th>Mitoses</th>\n",
       "    </tr>\n",
       "  </thead>\n",
       "  <tbody>\n",
       "    <tr>\n",
       "      <td>0</td>\n",
       "      <td>5</td>\n",
       "      <td>1</td>\n",
       "      <td>1</td>\n",
       "      <td>1</td>\n",
       "      <td>2</td>\n",
       "      <td>1</td>\n",
       "      <td>3</td>\n",
       "      <td>1</td>\n",
       "      <td>1</td>\n",
       "    </tr>\n",
       "    <tr>\n",
       "      <td>1</td>\n",
       "      <td>5</td>\n",
       "      <td>4</td>\n",
       "      <td>4</td>\n",
       "      <td>5</td>\n",
       "      <td>7</td>\n",
       "      <td>10</td>\n",
       "      <td>3</td>\n",
       "      <td>2</td>\n",
       "      <td>1</td>\n",
       "    </tr>\n",
       "    <tr>\n",
       "      <td>2</td>\n",
       "      <td>3</td>\n",
       "      <td>1</td>\n",
       "      <td>1</td>\n",
       "      <td>1</td>\n",
       "      <td>2</td>\n",
       "      <td>2</td>\n",
       "      <td>3</td>\n",
       "      <td>1</td>\n",
       "      <td>1</td>\n",
       "    </tr>\n",
       "    <tr>\n",
       "      <td>3</td>\n",
       "      <td>6</td>\n",
       "      <td>8</td>\n",
       "      <td>8</td>\n",
       "      <td>1</td>\n",
       "      <td>3</td>\n",
       "      <td>4</td>\n",
       "      <td>3</td>\n",
       "      <td>7</td>\n",
       "      <td>1</td>\n",
       "    </tr>\n",
       "    <tr>\n",
       "      <td>4</td>\n",
       "      <td>4</td>\n",
       "      <td>1</td>\n",
       "      <td>1</td>\n",
       "      <td>3</td>\n",
       "      <td>2</td>\n",
       "      <td>1</td>\n",
       "      <td>3</td>\n",
       "      <td>1</td>\n",
       "      <td>1</td>\n",
       "    </tr>\n",
       "    <tr>\n",
       "      <td>...</td>\n",
       "      <td>...</td>\n",
       "      <td>...</td>\n",
       "      <td>...</td>\n",
       "      <td>...</td>\n",
       "      <td>...</td>\n",
       "      <td>...</td>\n",
       "      <td>...</td>\n",
       "      <td>...</td>\n",
       "      <td>...</td>\n",
       "    </tr>\n",
       "    <tr>\n",
       "      <td>694</td>\n",
       "      <td>3</td>\n",
       "      <td>1</td>\n",
       "      <td>1</td>\n",
       "      <td>1</td>\n",
       "      <td>3</td>\n",
       "      <td>2</td>\n",
       "      <td>1</td>\n",
       "      <td>1</td>\n",
       "      <td>1</td>\n",
       "    </tr>\n",
       "    <tr>\n",
       "      <td>695</td>\n",
       "      <td>2</td>\n",
       "      <td>1</td>\n",
       "      <td>1</td>\n",
       "      <td>1</td>\n",
       "      <td>2</td>\n",
       "      <td>1</td>\n",
       "      <td>1</td>\n",
       "      <td>1</td>\n",
       "      <td>1</td>\n",
       "    </tr>\n",
       "    <tr>\n",
       "      <td>696</td>\n",
       "      <td>5</td>\n",
       "      <td>10</td>\n",
       "      <td>10</td>\n",
       "      <td>3</td>\n",
       "      <td>7</td>\n",
       "      <td>3</td>\n",
       "      <td>8</td>\n",
       "      <td>10</td>\n",
       "      <td>2</td>\n",
       "    </tr>\n",
       "    <tr>\n",
       "      <td>697</td>\n",
       "      <td>4</td>\n",
       "      <td>8</td>\n",
       "      <td>6</td>\n",
       "      <td>4</td>\n",
       "      <td>3</td>\n",
       "      <td>4</td>\n",
       "      <td>10</td>\n",
       "      <td>6</td>\n",
       "      <td>1</td>\n",
       "    </tr>\n",
       "    <tr>\n",
       "      <td>698</td>\n",
       "      <td>4</td>\n",
       "      <td>8</td>\n",
       "      <td>8</td>\n",
       "      <td>5</td>\n",
       "      <td>4</td>\n",
       "      <td>5</td>\n",
       "      <td>10</td>\n",
       "      <td>4</td>\n",
       "      <td>1</td>\n",
       "    </tr>\n",
       "  </tbody>\n",
       "</table>\n",
       "<p>690 rows × 9 columns</p>\n",
       "</div>"
      ],
      "text/plain": [
       "     ClumpThickness  Cell Size  Cell Shape  Marginal Adhesion  \\\n",
       "0                 5          1           1                  1   \n",
       "1                 5          4           4                  5   \n",
       "2                 3          1           1                  1   \n",
       "3                 6          8           8                  1   \n",
       "4                 4          1           1                  3   \n",
       "..              ...        ...         ...                ...   \n",
       "694               3          1           1                  1   \n",
       "695               2          1           1                  1   \n",
       "696               5         10          10                  3   \n",
       "697               4          8           6                  4   \n",
       "698               4          8           8                  5   \n",
       "\n",
       "     Single Epithelial Cell Size  Bare Nuclei  Normal Nucleoli  \\\n",
       "0                              2            1                3   \n",
       "1                              7           10                3   \n",
       "2                              2            2                3   \n",
       "3                              3            4                3   \n",
       "4                              2            1                3   \n",
       "..                           ...          ...              ...   \n",
       "694                            3            2                1   \n",
       "695                            2            1                1   \n",
       "696                            7            3                8   \n",
       "697                            3            4               10   \n",
       "698                            4            5               10   \n",
       "\n",
       "     Bland Chromatin  Mitoses  \n",
       "0                  1        1  \n",
       "1                  2        1  \n",
       "2                  1        1  \n",
       "3                  7        1  \n",
       "4                  1        1  \n",
       "..               ...      ...  \n",
       "694                1        1  \n",
       "695                1        1  \n",
       "696               10        2  \n",
       "697                6        1  \n",
       "698                4        1  \n",
       "\n",
       "[690 rows x 9 columns]"
      ]
     },
     "execution_count": 29,
     "metadata": {},
     "output_type": "execute_result"
    }
   ],
   "source": [
    "#Dropping ID attribute which is not relevant \n",
    "#Dropping target attribute/column Class too as its not going to be input for our algo\n",
    "cancer_df.drop(columns=['ID','Class'], inplace=True, axis=0)\n",
    "cancer_df"
   ]
  },
  {
   "cell_type": "code",
   "execution_count": 275,
   "metadata": {
    "colab": {},
    "colab_type": "code",
    "id": "5Wt84dgVSM4s"
   },
   "outputs": [
    {
     "data": {
      "text/plain": [
       "<seaborn.axisgrid.PairGrid at 0x1a363b5050>"
      ]
     },
     "execution_count": 275,
     "metadata": {},
     "output_type": "execute_result"
    },
    {
     "data": {
      "image/png": "[encoded data removed]",
      "text/plain": [
       "<Figure size 1620x1620 with 90 Axes>"
      ]
     },
     "metadata": {
      "needs_background": "light"
     },
     "output_type": "display_data"
    }
   ],
   "source": [
    "#Let us check for pair plots\n",
    "sns.pairplot(cancer_df,diag_kind = 'kde')"
   ]
  },
  {
   "cell_type": "code",
   "execution_count": 140,
   "metadata": {
    "colab": {},
    "colab_type": "code",
    "id": "OTh11akvWCx8"
   },
   "outputs": [],
   "source": [
    "# All attributes are multinomial, lot of noise in the data\n",
    "# Relationship between variables shows come correlation. \n",
    "# Distribution of variables shows most of the values are concentrated on lower side, though range remains same for all that is \n",
    "# Between 1 to 10"
   ]
  },
  {
   "cell_type": "markdown",
   "metadata": {
    "colab_type": "text",
    "id": "9hxe7D9BWCx-"
   },
   "source": [
    "# Q5 Remove any unwanted columns or outliers, standardize variables in pre-processing step"
   ]
  },
  {
   "cell_type": "code",
   "execution_count": 242,
   "metadata": {
    "colab": {},
    "colab_type": "code",
    "id": "ViVkMsQTWCza"
   },
   "outputs": [
    {
     "data": {
      "text/plain": [
       "<matplotlib.axes._subplots.AxesSubplot at 0x1a351d25d0>"
      ]
     },
     "execution_count": 242,
     "metadata": {},
     "output_type": "execute_result"
    },
    {
     "data": {
      "image/png": "[encoded data removed]",
      "text/plain": [
       "<Figure size 2880x720 with 1 Axes>"
      ]
     },
     "metadata": {
      "needs_background": "light"
     },
     "output_type": "display_data"
    }
   ],
   "source": [
    "# We could see most of the outliers are now removed.\n",
    "cancer_df.boxplot(figsize=(40,10))"
   ]
  },
  {
   "cell_type": "code",
   "execution_count": 57,
   "metadata": {},
   "outputs": [
    {
     "name": "stdout",
     "output_type": "stream",
     "text": [
      "ClumpThickness                 4.0\n",
      "Cell Size                      4.0\n",
      "Cell Shape                     4.0\n",
      "Marginal Adhesion              2.0\n",
      "Single Epithelial Cell Size    2.0\n",
      "Bare Nuclei                    4.0\n",
      "Normal Nucleoli                3.0\n",
      "Bland Chromatin                3.0\n",
      "dtype: float64\n",
      "ClumpThickness                 4.428986\n",
      "Cell Size                      3.133333\n",
      "Cell Shape                     3.204348\n",
      "Marginal Adhesion              2.052174\n",
      "Single Epithelial Cell Size    3.213043\n",
      "Bare Nuclei                    3.482609\n",
      "Normal Nucleoli                3.436232\n",
      "Bland Chromatin                2.885507\n",
      "dtype: float64\n"
     ]
    }
   ],
   "source": [
    "Q1 = cancer_df.quantile(0.25)\n",
    "Q3 = cancer_df.quantile(0.75)\n",
    "mean = cancer_df.mean()\n",
    "IQR = Q3 - Q1\n",
    "print(IQR)\n",
    "print(mean)"
   ]
  },
  {
   "cell_type": "code",
   "execution_count": 37,
   "metadata": {},
   "outputs": [
    {
     "data": {
      "text/plain": [
       "0.0"
      ]
     },
     "execution_count": 37,
     "metadata": {},
     "output_type": "execute_result"
    }
   ],
   "source": [
    "#Mitoses IQR is zero, there is no range, no variance in value, hence dropping column\n",
    "IQR['Mitoses']"
   ]
  },
  {
   "cell_type": "code",
   "execution_count": 38,
   "metadata": {},
   "outputs": [],
   "source": [
    "cancer_df.drop(columns=[\"Mitoses\"], inplace=True, axis=0)"
   ]
  },
  {
   "cell_type": "code",
   "execution_count": 58,
   "metadata": {},
   "outputs": [
    {
     "data": {
      "text/plain": [
       "(561, 8)"
      ]
     },
     "execution_count": 58,
     "metadata": {},
     "output_type": "execute_result"
    }
   ],
   "source": [
    "#Missed 690-561=129 rows because of outliers cleaning\n",
    "#Outliers could be replaced with mean, median or mode value\n",
    "cancer_df_treated = cancer_df[~((cancer_df < (Q1 - 1.5 * IQR)) |(cancer_df > (Q3 + 1.5 * IQR))).any(axis=1)]\n",
    "cancer_df_treated.shape"
   ]
  },
  {
   "cell_type": "code",
   "execution_count": 59,
   "metadata": {},
   "outputs": [],
   "source": [
    "#standardizing column values\n",
    "from scipy.stats import zscore\n",
    "cancer_df = cancer_df.apply(zscore)"
   ]
  },
  {
   "cell_type": "code",
   "execution_count": 60,
   "metadata": {},
   "outputs": [
    {
     "data": {
      "text/html": [
       "<div>\n",
       "<style scoped>\n",
       "    .dataframe tbody tr th:only-of-type {\n",
       "        vertical-align: middle;\n",
       "    }\n",
       "\n",
       "    .dataframe tbody tr th {\n",
       "        vertical-align: top;\n",
       "    }\n",
       "\n",
       "    .dataframe thead th {\n",
       "        text-align: right;\n",
       "    }\n",
       "</style>\n",
       "<table border=\"1\" class=\"dataframe\">\n",
       "  <thead>\n",
       "    <tr style=\"text-align: right;\">\n",
       "      <th></th>\n",
       "      <th>ClumpThickness</th>\n",
       "      <th>Cell Size</th>\n",
       "      <th>Cell Shape</th>\n",
       "      <th>Marginal Adhesion</th>\n",
       "      <th>Single Epithelial Cell Size</th>\n",
       "      <th>Bare Nuclei</th>\n",
       "      <th>Normal Nucleoli</th>\n",
       "      <th>Bland Chromatin</th>\n",
       "    </tr>\n",
       "  </thead>\n",
       "  <tbody>\n",
       "    <tr>\n",
       "      <td>0</td>\n",
       "      <td>0.202823</td>\n",
       "      <td>-0.701698</td>\n",
       "      <td>-0.745040</td>\n",
       "      <td>-0.560427</td>\n",
       "      <td>-0.551542</td>\n",
       "      <td>-0.686858</td>\n",
       "      <td>-0.178616</td>\n",
       "      <td>-0.615082</td>\n",
       "    </tr>\n",
       "    <tr>\n",
       "      <td>1</td>\n",
       "      <td>0.202823</td>\n",
       "      <td>0.285065</td>\n",
       "      <td>0.268920</td>\n",
       "      <td>1.570123</td>\n",
       "      <td>1.721838</td>\n",
       "      <td>1.803153</td>\n",
       "      <td>-0.178616</td>\n",
       "      <td>-0.288866</td>\n",
       "    </tr>\n",
       "    <tr>\n",
       "      <td>2</td>\n",
       "      <td>-0.507572</td>\n",
       "      <td>-0.701698</td>\n",
       "      <td>-0.745040</td>\n",
       "      <td>-0.560427</td>\n",
       "      <td>-0.551542</td>\n",
       "      <td>-0.410190</td>\n",
       "      <td>-0.178616</td>\n",
       "      <td>-0.615082</td>\n",
       "    </tr>\n",
       "    <tr>\n",
       "      <td>3</td>\n",
       "      <td>0.558020</td>\n",
       "      <td>1.600748</td>\n",
       "      <td>1.620866</td>\n",
       "      <td>-0.560427</td>\n",
       "      <td>-0.096866</td>\n",
       "      <td>0.143146</td>\n",
       "      <td>-0.178616</td>\n",
       "      <td>1.342211</td>\n",
       "    </tr>\n",
       "    <tr>\n",
       "      <td>4</td>\n",
       "      <td>-0.152375</td>\n",
       "      <td>-0.701698</td>\n",
       "      <td>-0.745040</td>\n",
       "      <td>0.504848</td>\n",
       "      <td>-0.551542</td>\n",
       "      <td>-0.686858</td>\n",
       "      <td>-0.178616</td>\n",
       "      <td>-0.615082</td>\n",
       "    </tr>\n",
       "    <tr>\n",
       "      <td>5</td>\n",
       "      <td>1.268415</td>\n",
       "      <td>2.258590</td>\n",
       "      <td>2.296839</td>\n",
       "      <td>3.168036</td>\n",
       "      <td>1.721838</td>\n",
       "      <td>1.803153</td>\n",
       "      <td>2.278096</td>\n",
       "      <td>1.342211</td>\n",
       "    </tr>\n",
       "    <tr>\n",
       "      <td>6</td>\n",
       "      <td>-1.217967</td>\n",
       "      <td>-0.701698</td>\n",
       "      <td>-0.745040</td>\n",
       "      <td>-0.560427</td>\n",
       "      <td>-0.551542</td>\n",
       "      <td>1.803153</td>\n",
       "      <td>-0.178616</td>\n",
       "      <td>-0.615082</td>\n",
       "    </tr>\n",
       "    <tr>\n",
       "      <td>7</td>\n",
       "      <td>-0.862769</td>\n",
       "      <td>-0.701698</td>\n",
       "      <td>-0.407053</td>\n",
       "      <td>-0.560427</td>\n",
       "      <td>-0.551542</td>\n",
       "      <td>-0.686858</td>\n",
       "      <td>-0.178616</td>\n",
       "      <td>-0.615082</td>\n",
       "    </tr>\n",
       "    <tr>\n",
       "      <td>8</td>\n",
       "      <td>-0.862769</td>\n",
       "      <td>-0.701698</td>\n",
       "      <td>-0.745040</td>\n",
       "      <td>-0.560427</td>\n",
       "      <td>-0.551542</td>\n",
       "      <td>-0.686858</td>\n",
       "      <td>-0.997520</td>\n",
       "      <td>-0.615082</td>\n",
       "    </tr>\n",
       "    <tr>\n",
       "      <td>9</td>\n",
       "      <td>-0.152375</td>\n",
       "      <td>-0.372777</td>\n",
       "      <td>-0.745040</td>\n",
       "      <td>-0.560427</td>\n",
       "      <td>-0.551542</td>\n",
       "      <td>-0.686858</td>\n",
       "      <td>-0.588068</td>\n",
       "      <td>-0.615082</td>\n",
       "    </tr>\n",
       "  </tbody>\n",
       "</table>\n",
       "</div>"
      ],
      "text/plain": [
       "   ClumpThickness  Cell Size  Cell Shape  Marginal Adhesion  \\\n",
       "0        0.202823  -0.701698   -0.745040          -0.560427   \n",
       "1        0.202823   0.285065    0.268920           1.570123   \n",
       "2       -0.507572  -0.701698   -0.745040          -0.560427   \n",
       "3        0.558020   1.600748    1.620866          -0.560427   \n",
       "4       -0.152375  -0.701698   -0.745040           0.504848   \n",
       "5        1.268415   2.258590    2.296839           3.168036   \n",
       "6       -1.217967  -0.701698   -0.745040          -0.560427   \n",
       "7       -0.862769  -0.701698   -0.407053          -0.560427   \n",
       "8       -0.862769  -0.701698   -0.745040          -0.560427   \n",
       "9       -0.152375  -0.372777   -0.745040          -0.560427   \n",
       "\n",
       "   Single Epithelial Cell Size  Bare Nuclei  Normal Nucleoli  Bland Chromatin  \n",
       "0                    -0.551542    -0.686858        -0.178616        -0.615082  \n",
       "1                     1.721838     1.803153        -0.178616        -0.288866  \n",
       "2                    -0.551542    -0.410190        -0.178616        -0.615082  \n",
       "3                    -0.096866     0.143146        -0.178616         1.342211  \n",
       "4                    -0.551542    -0.686858        -0.178616        -0.615082  \n",
       "5                     1.721838     1.803153         2.278096         1.342211  \n",
       "6                    -0.551542     1.803153        -0.178616        -0.615082  \n",
       "7                    -0.551542    -0.686858        -0.178616        -0.615082  \n",
       "8                    -0.551542    -0.686858        -0.997520        -0.615082  \n",
       "9                    -0.551542    -0.686858        -0.588068        -0.615082  "
      ]
     },
     "execution_count": 60,
     "metadata": {},
     "output_type": "execute_result"
    }
   ],
   "source": [
    "cancer_df.head(10)"
   ]
  },
  {
   "cell_type": "markdown",
   "metadata": {
    "colab_type": "text",
    "id": "lmMHMAtkWCzm"
   },
   "source": [
    "# Q6 Create a covariance matrix for identifying Principal components"
   ]
  },
  {
   "cell_type": "code",
   "execution_count": 61,
   "metadata": {
    "colab": {},
    "colab_type": "code",
    "id": "X3pUdlSdSM5D"
   },
   "outputs": [
    {
     "name": "stdout",
     "output_type": "stream",
     "text": [
      "Covariance Matrix \n",
      "%s [[1.00145138 0.64410677 0.65453792 0.38210551 0.51800374 0.59150555\n",
      "  0.56187702 0.53628373]\n",
      " [0.64410677 1.00145138 0.9066632  0.51699237 0.74806589 0.68556472\n",
      "  0.76073447 0.7281282 ]\n",
      " [0.65453792 0.9066632  1.00145138 0.48458778 0.71527957 0.70518656\n",
      "  0.73964761 0.72557104]\n",
      " [0.38210551 0.51699237 0.48458778 1.00145138 0.43174758 0.48093753\n",
      "  0.50590944 0.47035352]\n",
      " [0.51800374 0.74806589 0.71527957 0.43174758 1.00145138 0.58132945\n",
      "  0.62142658 0.63480034]\n",
      " [0.59150555 0.68556472 0.70518656 0.48093753 0.58132945 1.00145138\n",
      "  0.67373075 0.57900023]\n",
      " [0.56187702 0.76073447 0.73964761 0.50590944 0.62142658 0.67373075\n",
      "  1.00145138 0.67006996]\n",
      " [0.53628373 0.7281282  0.72557104 0.47035352 0.63480034 0.57900023\n",
      "  0.67006996 1.00145138]]\n"
     ]
    }
   ],
   "source": [
    "# PCA\n",
    "# Step 1 - Create covariance matrix\n",
    "cancer_df_cov_matrix = np.cov(cancer_df.T)\n",
    "print('Covariance Matrix \\n%s', cancer_df_cov_matrix)"
   ]
  },
  {
   "cell_type": "markdown",
   "metadata": {
    "colab_type": "text",
    "id": "vbZ-YcsdWCzz"
   },
   "source": [
    "# Q7 Identify eigen values and eigen vector"
   ]
  },
  {
   "cell_type": "code",
   "execution_count": 0,
   "metadata": {
    "colab": {},
    "colab_type": "code",
    "id": "sH-AksvLSM5L"
   },
   "outputs": [],
   "source": [
    "# Step 2- Get eigen values and eigen vector"
   ]
  },
  {
   "cell_type": "code",
   "execution_count": 62,
   "metadata": {
    "colab": {},
    "colab_type": "code",
    "id": "YaNotXfFSM5O"
   },
   "outputs": [
    {
     "name": "stdout",
     "output_type": "stream",
     "text": [
      "Eigen Vectors \n",
      "%s [[-0.3216811   0.26732164 -0.00698866  0.74160441 -0.20421191  0.48055763\n",
      "  -0.04186966 -0.02536257]\n",
      " [-0.39967251  0.1164318  -0.73067386 -0.13973924  0.44178874  0.05026639\n",
      "   0.04715085 -0.27086338]\n",
      " [-0.39612583  0.16586533  0.67174742 -0.07653783  0.56796754  0.0021387\n",
      "   0.00371097 -0.18938033]\n",
      " [-0.27309035 -0.92861828  0.03578051  0.09695744  0.04412027  0.20936405\n",
      "   0.07937574 -0.01812052]\n",
      " [-0.3487762   0.15070154  0.07227321 -0.43154508 -0.39530768  0.245504\n",
      "   0.65777637  0.12239077]\n",
      " [-0.35029799 -0.00611456 -0.06299951  0.33180324  0.04383645 -0.67931136\n",
      "   0.22748221  0.49805409]\n",
      " [-0.3676011  -0.02631223  0.06233353 -0.06692738 -0.52080239 -0.40468961\n",
      "  -0.29399761 -0.57824644]\n",
      " [-0.35469009  0.04121754 -0.02154526 -0.33827981 -0.095716    0.19284698\n",
      "  -0.64719158  0.54073115]]\n",
      "\n",
      " Eigen Values \n",
      "%s [5.3712829  0.66663646 0.0904404  0.53037361 0.26508477 0.4087366\n",
      " 0.37694537 0.30211093]\n"
     ]
    }
   ],
   "source": [
    "eigen_values, eigen_vectors = np.linalg.eig(cancer_df_cov_matrix)\n",
    "print('Eigen Vectors \\n%s', eigen_vectors)\n",
    "print('\\n Eigen Values \\n%s', eigen_values)"
   ]
  },
  {
   "cell_type": "markdown",
   "metadata": {
    "colab_type": "text",
    "id": "-2KqQg2KWCz7"
   },
   "source": [
    "# Q8 Find variance and cumulative variance by each eigen vector"
   ]
  },
  {
   "cell_type": "code",
   "execution_count": 63,
   "metadata": {
    "colab": {},
    "colab_type": "code",
    "id": "HVrVYdZpSM5e"
   },
   "outputs": [],
   "source": [
    "eigen_pairs = [(np.abs(eigen_values[i]), eigen_vectors[ :, i]) for i in range(len(eigen_values))]"
   ]
  },
  {
   "cell_type": "code",
   "execution_count": 64,
   "metadata": {
    "colab": {},
    "colab_type": "code",
    "id": "wGszn1TqSM5i"
   },
   "outputs": [
    {
     "name": "stdout",
     "output_type": "stream",
     "text": [
      "Variance Explained [67.04373034785569, 8.320879024323832, 6.620061853232197, 5.101802803292236, 4.704988464985446, 3.770913551616534, 3.3087573822326237, 1.128866572461442]\n",
      "Cumulative Variance Explained [ 67.04373035  75.36460937  81.98467123  87.08647403  91.79146249\n",
      "  95.56237605  98.87113343 100.        ]\n"
     ]
    }
   ],
   "source": [
    "total = sum(eigen_values)\n",
    "varience_explained = [( i /total ) * 100 for i in sorted(eigen_values, reverse=True)]\n",
    "print(\"Variance Explained\", varience_explained)\n",
    "cumulative_varience_explained = np.cumsum(varience_explained)\n",
    "print(\"Cumulative Variance Explained\", cumulative_varience_explained)"
   ]
  },
  {
   "cell_type": "markdown",
   "metadata": {
    "colab_type": "text",
    "id": "x8YxQPNGWC0e"
   },
   "source": [
    "# Q9 Use PCA command from sklearn and find Principal Components. Transform data to components formed"
   ]
  },
  {
   "cell_type": "code",
   "execution_count": 65,
   "metadata": {
    "colab": {},
    "colab_type": "code",
    "id": "ZgniQrGWSM5l"
   },
   "outputs": [],
   "source": [
    "from sklearn.decomposition import PCA"
   ]
  },
  {
   "cell_type": "code",
   "execution_count": 69,
   "metadata": {},
   "outputs": [
    {
     "data": {
      "text/plain": [
       "<seaborn.axisgrid.PairGrid at 0x1a1ea625d0>"
      ]
     },
     "execution_count": 69,
     "metadata": {},
     "output_type": "execute_result"
    },
    {
     "data": {
      "image/png": "[encoded data removed]",
      "text/plain": [
       "<Figure size 1440x1440 with 72 Axes>"
      ]
     },
     "metadata": {
      "needs_background": "light"
     },
     "output_type": "display_data"
    }
   ],
   "source": [
    "sns.pairplot(cancer_df.corr())"
   ]
  },
  {
   "cell_type": "markdown",
   "metadata": {},
   "source": [
    "cancer4 = cancer3 - cancer3.mean(axis=0)"
   ]
  },
  {
   "cell_type": "code",
   "execution_count": 70,
   "metadata": {},
   "outputs": [
    {
     "data": {
      "text/plain": [
       "PCA(copy=True, iterated_power='auto', n_components=8, random_state=None,\n",
       "    svd_solver='auto', tol=0.0, whiten=False)"
      ]
     },
     "execution_count": 70,
     "metadata": {},
     "output_type": "execute_result"
    }
   ],
   "source": [
    "pca_model = PCA(n_components=8)\n",
    "pca_model.fit(cancer_df)"
   ]
  },
  {
   "cell_type": "code",
   "execution_count": 72,
   "metadata": {},
   "outputs": [],
   "source": [
    "X_pca = pca_model.transform(cancer_df)"
   ]
  },
  {
   "cell_type": "code",
   "execution_count": 73,
   "metadata": {},
   "outputs": [
    {
     "data": {
      "text/plain": [
       "(690, 8)"
      ]
     },
     "execution_count": 73,
     "metadata": {},
     "output_type": "execute_result"
    }
   ],
   "source": [
    "cancer_df_pc= pd.DataFrame(X_pca, columns=['pc1','pc2','pc3','pc4','pc5','pc6','pc7','pc8'])\n",
    "cancer_df_pc.shape"
   ]
  },
  {
   "cell_type": "markdown",
   "metadata": {
    "colab_type": "text",
    "id": "8L-IGI0QWC0t"
   },
   "source": [
    "# Q10 Find correlation between components and features"
   ]
  },
  {
   "cell_type": "code",
   "execution_count": 74,
   "metadata": {
    "colab": {},
    "colab_type": "code",
    "id": "eLi4UsMcSM5r"
   },
   "outputs": [
    {
     "data": {
      "text/html": [
       "<div>\n",
       "<style scoped>\n",
       "    .dataframe tbody tr th:only-of-type {\n",
       "        vertical-align: middle;\n",
       "    }\n",
       "\n",
       "    .dataframe tbody tr th {\n",
       "        vertical-align: top;\n",
       "    }\n",
       "\n",
       "    .dataframe thead th {\n",
       "        text-align: right;\n",
       "    }\n",
       "</style>\n",
       "<table border=\"1\" class=\"dataframe\">\n",
       "  <thead>\n",
       "    <tr style=\"text-align: right;\">\n",
       "      <th></th>\n",
       "      <th>pc1</th>\n",
       "      <th>pc2</th>\n",
       "      <th>pc3</th>\n",
       "      <th>pc4</th>\n",
       "      <th>pc5</th>\n",
       "      <th>pc6</th>\n",
       "      <th>pc7</th>\n",
       "      <th>pc8</th>\n",
       "    </tr>\n",
       "  </thead>\n",
       "  <tbody>\n",
       "    <tr>\n",
       "      <td>pc1</td>\n",
       "      <td>1.000000e+00</td>\n",
       "      <td>1.451884e-14</td>\n",
       "      <td>1.899827e-16</td>\n",
       "      <td>-4.419610e-16</td>\n",
       "      <td>3.102868e-17</td>\n",
       "      <td>1.821509e-17</td>\n",
       "      <td>-3.213931e-17</td>\n",
       "      <td>4.048153e-16</td>\n",
       "    </tr>\n",
       "    <tr>\n",
       "      <td>pc2</td>\n",
       "      <td>1.451884e-14</td>\n",
       "      <td>1.000000e+00</td>\n",
       "      <td>4.932044e-17</td>\n",
       "      <td>6.019485e-17</td>\n",
       "      <td>1.150775e-16</td>\n",
       "      <td>1.938907e-17</td>\n",
       "      <td>9.237855e-17</td>\n",
       "      <td>-7.153058e-17</td>\n",
       "    </tr>\n",
       "    <tr>\n",
       "      <td>pc3</td>\n",
       "      <td>1.899827e-16</td>\n",
       "      <td>4.932044e-17</td>\n",
       "      <td>1.000000e+00</td>\n",
       "      <td>-1.965743e-16</td>\n",
       "      <td>-2.565907e-16</td>\n",
       "      <td>-1.231795e-16</td>\n",
       "      <td>1.042124e-16</td>\n",
       "      <td>1.029011e-15</td>\n",
       "    </tr>\n",
       "    <tr>\n",
       "      <td>pc4</td>\n",
       "      <td>-4.419610e-16</td>\n",
       "      <td>6.019485e-17</td>\n",
       "      <td>-1.965743e-16</td>\n",
       "      <td>1.000000e+00</td>\n",
       "      <td>-2.360467e-17</td>\n",
       "      <td>-2.283575e-16</td>\n",
       "      <td>-2.552885e-16</td>\n",
       "      <td>2.859965e-17</td>\n",
       "    </tr>\n",
       "    <tr>\n",
       "      <td>pc5</td>\n",
       "      <td>3.102868e-17</td>\n",
       "      <td>1.150775e-16</td>\n",
       "      <td>-2.565907e-16</td>\n",
       "      <td>-2.360467e-17</td>\n",
       "      <td>1.000000e+00</td>\n",
       "      <td>3.051191e-16</td>\n",
       "      <td>1.121456e-16</td>\n",
       "      <td>-3.472300e-16</td>\n",
       "    </tr>\n",
       "    <tr>\n",
       "      <td>pc6</td>\n",
       "      <td>1.821509e-17</td>\n",
       "      <td>1.938907e-17</td>\n",
       "      <td>-1.231795e-16</td>\n",
       "      <td>-2.283575e-16</td>\n",
       "      <td>3.051191e-16</td>\n",
       "      <td>1.000000e+00</td>\n",
       "      <td>-1.525985e-16</td>\n",
       "      <td>5.483389e-16</td>\n",
       "    </tr>\n",
       "    <tr>\n",
       "      <td>pc7</td>\n",
       "      <td>-3.213931e-17</td>\n",
       "      <td>9.237855e-17</td>\n",
       "      <td>1.042124e-16</td>\n",
       "      <td>-2.552885e-16</td>\n",
       "      <td>1.121456e-16</td>\n",
       "      <td>-1.525985e-16</td>\n",
       "      <td>1.000000e+00</td>\n",
       "      <td>1.435489e-16</td>\n",
       "    </tr>\n",
       "    <tr>\n",
       "      <td>pc8</td>\n",
       "      <td>4.048153e-16</td>\n",
       "      <td>-7.153058e-17</td>\n",
       "      <td>1.029011e-15</td>\n",
       "      <td>2.859965e-17</td>\n",
       "      <td>-3.472300e-16</td>\n",
       "      <td>5.483389e-16</td>\n",
       "      <td>1.435489e-16</td>\n",
       "      <td>1.000000e+00</td>\n",
       "    </tr>\n",
       "  </tbody>\n",
       "</table>\n",
       "</div>"
      ],
      "text/plain": [
       "              pc1           pc2           pc3           pc4           pc5  \\\n",
       "pc1  1.000000e+00  1.451884e-14  1.899827e-16 -4.419610e-16  3.102868e-17   \n",
       "pc2  1.451884e-14  1.000000e+00  4.932044e-17  6.019485e-17  1.150775e-16   \n",
       "pc3  1.899827e-16  4.932044e-17  1.000000e+00 -1.965743e-16 -2.565907e-16   \n",
       "pc4 -4.419610e-16  6.019485e-17 -1.965743e-16  1.000000e+00 -2.360467e-17   \n",
       "pc5  3.102868e-17  1.150775e-16 -2.565907e-16 -2.360467e-17  1.000000e+00   \n",
       "pc6  1.821509e-17  1.938907e-17 -1.231795e-16 -2.283575e-16  3.051191e-16   \n",
       "pc7 -3.213931e-17  9.237855e-17  1.042124e-16 -2.552885e-16  1.121456e-16   \n",
       "pc8  4.048153e-16 -7.153058e-17  1.029011e-15  2.859965e-17 -3.472300e-16   \n",
       "\n",
       "              pc6           pc7           pc8  \n",
       "pc1  1.821509e-17 -3.213931e-17  4.048153e-16  \n",
       "pc2  1.938907e-17  9.237855e-17 -7.153058e-17  \n",
       "pc3 -1.231795e-16  1.042124e-16  1.029011e-15  \n",
       "pc4 -2.283575e-16 -2.552885e-16  2.859965e-17  \n",
       "pc5  3.051191e-16  1.121456e-16 -3.472300e-16  \n",
       "pc6  1.000000e+00 -1.525985e-16  5.483389e-16  \n",
       "pc7 -1.525985e-16  1.000000e+00  1.435489e-16  \n",
       "pc8  5.483389e-16  1.435489e-16  1.000000e+00  "
      ]
     },
     "execution_count": 74,
     "metadata": {},
     "output_type": "execute_result"
    }
   ],
   "source": [
    "cancer_df_pc.corr()"
   ]
  },
  {
   "cell_type": "code",
   "execution_count": 76,
   "metadata": {
    "colab": {},
    "colab_type": "code",
    "id": "bXUp9TCDWC1G"
   },
   "outputs": [
    {
     "data": {
      "text/plain": [
       "<seaborn.axisgrid.PairGrid at 0x1a218f2b10>"
      ]
     },
     "execution_count": 76,
     "metadata": {},
     "output_type": "execute_result"
    },
    {
     "data": {
      "image/png": "[encoded data removed]",
      "text/plain": [
       "<Figure size 1440x1440 with 72 Axes>"
      ]
     },
     "metadata": {
      "needs_background": "light"
     },
     "output_type": "display_data"
    }
   ],
   "source": [
    "sns.pairplot(cancer_df_pc.corr())"
   ]
  },
  {
   "cell_type": "markdown",
   "metadata": {
    "colab_type": "text",
    "id": "HnHXocYbSM6n"
   },
   "source": [
    "# Popularity Based Recommendation System"
   ]
  },
  {
   "cell_type": "markdown",
   "metadata": {
    "colab_type": "text",
    "id": "r8LHW5isSM6o"
   },
   "source": [
    "### About Dataset"
   ]
  },
  {
   "cell_type": "markdown",
   "metadata": {
    "colab_type": "text",
    "id": "m8i-LSc4SM6p"
   },
   "source": [
    "Anonymous Ratings on jokes."
   ]
  },
  {
   "cell_type": "markdown",
   "metadata": {
    "colab_type": "text",
    "id": "y-wmIsyYSM6p"
   },
   "source": [
    "1. Ratings are real values ranging from -10.00 to +10.00 (the value \"99\" corresponds to \"null\" = \"not rated\").\n",
    "\n",
    "2. One row per user\n",
    "\n",
    "3. The first column gives the number of jokes rated by that user. The next 100 columns give the ratings for jokes 01 - 100."
   ]
  },
  {
   "cell_type": "markdown",
   "metadata": {
    "colab_type": "text",
    "id": "LC-Uca2PSM6q"
   },
   "source": [
    "# Q11 Read the dataset(jokes.csv)\n"
   ]
  },
  {
   "cell_type": "code",
   "execution_count": 87,
   "metadata": {
    "colab": {},
    "colab_type": "code",
    "id": "mndzWciDSM6r"
   },
   "outputs": [
    {
     "data": {
      "text/plain": [
       "(24983, 101)"
      ]
     },
     "execution_count": 87,
     "metadata": {},
     "output_type": "execute_result"
    }
   ],
   "source": [
    "jokes_df = pd.read_excel('jokes.xlsx')\n",
    "jokes_df.shape"
   ]
  },
  {
   "cell_type": "code",
   "execution_count": 88,
   "metadata": {},
   "outputs": [
    {
     "data": {
      "text/html": [
       "<div>\n",
       "<style scoped>\n",
       "    .dataframe tbody tr th:only-of-type {\n",
       "        vertical-align: middle;\n",
       "    }\n",
       "\n",
       "    .dataframe tbody tr th {\n",
       "        vertical-align: top;\n",
       "    }\n",
       "\n",
       "    .dataframe thead th {\n",
       "        text-align: right;\n",
       "    }\n",
       "</style>\n",
       "<table border=\"1\" class=\"dataframe\">\n",
       "  <thead>\n",
       "    <tr style=\"text-align: right;\">\n",
       "      <th></th>\n",
       "      <th>NumJokes</th>\n",
       "      <th>Joke1</th>\n",
       "      <th>Joke2</th>\n",
       "      <th>Joke3</th>\n",
       "      <th>Joke4</th>\n",
       "      <th>Joke5</th>\n",
       "      <th>Joke6</th>\n",
       "      <th>Joke7</th>\n",
       "      <th>Joke8</th>\n",
       "      <th>Joke9</th>\n",
       "      <th>...</th>\n",
       "      <th>Joke91</th>\n",
       "      <th>Joke92</th>\n",
       "      <th>Joke93</th>\n",
       "      <th>Joke94</th>\n",
       "      <th>Joke95</th>\n",
       "      <th>Joke96</th>\n",
       "      <th>Joke97</th>\n",
       "      <th>Joke98</th>\n",
       "      <th>Joke99</th>\n",
       "      <th>Joke100</th>\n",
       "    </tr>\n",
       "  </thead>\n",
       "  <tbody>\n",
       "    <tr>\n",
       "      <td>0</td>\n",
       "      <td>74</td>\n",
       "      <td>-7.82</td>\n",
       "      <td>8.79</td>\n",
       "      <td>-9.66</td>\n",
       "      <td>-8.16</td>\n",
       "      <td>-7.52</td>\n",
       "      <td>-8.50</td>\n",
       "      <td>-9.85</td>\n",
       "      <td>4.17</td>\n",
       "      <td>-8.98</td>\n",
       "      <td>...</td>\n",
       "      <td>2.82</td>\n",
       "      <td>99.00</td>\n",
       "      <td>99.00</td>\n",
       "      <td>99.00</td>\n",
       "      <td>99.00</td>\n",
       "      <td>99.00</td>\n",
       "      <td>-5.63</td>\n",
       "      <td>99.00</td>\n",
       "      <td>99.00</td>\n",
       "      <td>99.00</td>\n",
       "    </tr>\n",
       "    <tr>\n",
       "      <td>1</td>\n",
       "      <td>100</td>\n",
       "      <td>4.08</td>\n",
       "      <td>-0.29</td>\n",
       "      <td>6.36</td>\n",
       "      <td>4.37</td>\n",
       "      <td>-2.38</td>\n",
       "      <td>-9.66</td>\n",
       "      <td>-0.73</td>\n",
       "      <td>-5.34</td>\n",
       "      <td>8.88</td>\n",
       "      <td>...</td>\n",
       "      <td>2.82</td>\n",
       "      <td>-4.95</td>\n",
       "      <td>-0.29</td>\n",
       "      <td>7.86</td>\n",
       "      <td>-0.19</td>\n",
       "      <td>-2.14</td>\n",
       "      <td>3.06</td>\n",
       "      <td>0.34</td>\n",
       "      <td>-4.32</td>\n",
       "      <td>1.07</td>\n",
       "    </tr>\n",
       "    <tr>\n",
       "      <td>2</td>\n",
       "      <td>49</td>\n",
       "      <td>99.00</td>\n",
       "      <td>99.00</td>\n",
       "      <td>99.00</td>\n",
       "      <td>99.00</td>\n",
       "      <td>9.03</td>\n",
       "      <td>9.27</td>\n",
       "      <td>9.03</td>\n",
       "      <td>9.27</td>\n",
       "      <td>99.00</td>\n",
       "      <td>...</td>\n",
       "      <td>99.00</td>\n",
       "      <td>99.00</td>\n",
       "      <td>99.00</td>\n",
       "      <td>9.08</td>\n",
       "      <td>99.00</td>\n",
       "      <td>99.00</td>\n",
       "      <td>99.00</td>\n",
       "      <td>99.00</td>\n",
       "      <td>99.00</td>\n",
       "      <td>99.00</td>\n",
       "    </tr>\n",
       "    <tr>\n",
       "      <td>3</td>\n",
       "      <td>48</td>\n",
       "      <td>99.00</td>\n",
       "      <td>8.35</td>\n",
       "      <td>99.00</td>\n",
       "      <td>99.00</td>\n",
       "      <td>1.80</td>\n",
       "      <td>8.16</td>\n",
       "      <td>-2.82</td>\n",
       "      <td>6.21</td>\n",
       "      <td>99.00</td>\n",
       "      <td>...</td>\n",
       "      <td>99.00</td>\n",
       "      <td>99.00</td>\n",
       "      <td>99.00</td>\n",
       "      <td>0.53</td>\n",
       "      <td>99.00</td>\n",
       "      <td>99.00</td>\n",
       "      <td>99.00</td>\n",
       "      <td>99.00</td>\n",
       "      <td>99.00</td>\n",
       "      <td>99.00</td>\n",
       "    </tr>\n",
       "    <tr>\n",
       "      <td>4</td>\n",
       "      <td>91</td>\n",
       "      <td>8.50</td>\n",
       "      <td>4.61</td>\n",
       "      <td>-4.17</td>\n",
       "      <td>-5.39</td>\n",
       "      <td>1.36</td>\n",
       "      <td>1.60</td>\n",
       "      <td>7.04</td>\n",
       "      <td>4.61</td>\n",
       "      <td>-0.44</td>\n",
       "      <td>...</td>\n",
       "      <td>5.19</td>\n",
       "      <td>5.58</td>\n",
       "      <td>4.27</td>\n",
       "      <td>5.19</td>\n",
       "      <td>5.73</td>\n",
       "      <td>1.55</td>\n",
       "      <td>3.11</td>\n",
       "      <td>6.55</td>\n",
       "      <td>1.80</td>\n",
       "      <td>1.60</td>\n",
       "    </tr>\n",
       "    <tr>\n",
       "      <td>5</td>\n",
       "      <td>100</td>\n",
       "      <td>-6.17</td>\n",
       "      <td>-3.54</td>\n",
       "      <td>0.44</td>\n",
       "      <td>-8.50</td>\n",
       "      <td>-7.09</td>\n",
       "      <td>-4.32</td>\n",
       "      <td>-8.69</td>\n",
       "      <td>-0.87</td>\n",
       "      <td>-6.65</td>\n",
       "      <td>...</td>\n",
       "      <td>-3.54</td>\n",
       "      <td>-6.89</td>\n",
       "      <td>-0.68</td>\n",
       "      <td>-2.96</td>\n",
       "      <td>-2.18</td>\n",
       "      <td>-3.35</td>\n",
       "      <td>0.05</td>\n",
       "      <td>-9.08</td>\n",
       "      <td>-5.05</td>\n",
       "      <td>-3.45</td>\n",
       "    </tr>\n",
       "    <tr>\n",
       "      <td>6</td>\n",
       "      <td>47</td>\n",
       "      <td>99.00</td>\n",
       "      <td>99.00</td>\n",
       "      <td>99.00</td>\n",
       "      <td>99.00</td>\n",
       "      <td>8.59</td>\n",
       "      <td>-9.85</td>\n",
       "      <td>7.72</td>\n",
       "      <td>8.79</td>\n",
       "      <td>99.00</td>\n",
       "      <td>...</td>\n",
       "      <td>99.00</td>\n",
       "      <td>99.00</td>\n",
       "      <td>99.00</td>\n",
       "      <td>99.00</td>\n",
       "      <td>99.00</td>\n",
       "      <td>2.33</td>\n",
       "      <td>99.00</td>\n",
       "      <td>99.00</td>\n",
       "      <td>99.00</td>\n",
       "      <td>99.00</td>\n",
       "    </tr>\n",
       "    <tr>\n",
       "      <td>7</td>\n",
       "      <td>100</td>\n",
       "      <td>6.84</td>\n",
       "      <td>3.16</td>\n",
       "      <td>9.17</td>\n",
       "      <td>-6.21</td>\n",
       "      <td>-8.16</td>\n",
       "      <td>-1.70</td>\n",
       "      <td>9.27</td>\n",
       "      <td>1.41</td>\n",
       "      <td>-5.19</td>\n",
       "      <td>...</td>\n",
       "      <td>7.23</td>\n",
       "      <td>-1.12</td>\n",
       "      <td>-0.10</td>\n",
       "      <td>-5.68</td>\n",
       "      <td>-3.16</td>\n",
       "      <td>-3.35</td>\n",
       "      <td>2.14</td>\n",
       "      <td>-0.05</td>\n",
       "      <td>1.31</td>\n",
       "      <td>0.00</td>\n",
       "    </tr>\n",
       "    <tr>\n",
       "      <td>8</td>\n",
       "      <td>100</td>\n",
       "      <td>-3.79</td>\n",
       "      <td>-3.54</td>\n",
       "      <td>-9.42</td>\n",
       "      <td>-6.89</td>\n",
       "      <td>-8.74</td>\n",
       "      <td>-0.29</td>\n",
       "      <td>-5.29</td>\n",
       "      <td>-8.93</td>\n",
       "      <td>-7.86</td>\n",
       "      <td>...</td>\n",
       "      <td>4.37</td>\n",
       "      <td>-0.29</td>\n",
       "      <td>4.17</td>\n",
       "      <td>-0.29</td>\n",
       "      <td>-0.29</td>\n",
       "      <td>-0.29</td>\n",
       "      <td>-0.29</td>\n",
       "      <td>-0.29</td>\n",
       "      <td>-3.40</td>\n",
       "      <td>-4.95</td>\n",
       "    </tr>\n",
       "    <tr>\n",
       "      <td>9</td>\n",
       "      <td>72</td>\n",
       "      <td>3.01</td>\n",
       "      <td>5.15</td>\n",
       "      <td>5.15</td>\n",
       "      <td>3.01</td>\n",
       "      <td>6.41</td>\n",
       "      <td>5.15</td>\n",
       "      <td>8.93</td>\n",
       "      <td>2.52</td>\n",
       "      <td>3.01</td>\n",
       "      <td>...</td>\n",
       "      <td>99.00</td>\n",
       "      <td>4.47</td>\n",
       "      <td>99.00</td>\n",
       "      <td>99.00</td>\n",
       "      <td>99.00</td>\n",
       "      <td>99.00</td>\n",
       "      <td>99.00</td>\n",
       "      <td>99.00</td>\n",
       "      <td>99.00</td>\n",
       "      <td>99.00</td>\n",
       "    </tr>\n",
       "  </tbody>\n",
       "</table>\n",
       "<p>10 rows × 101 columns</p>\n",
       "</div>"
      ],
      "text/plain": [
       "   NumJokes  Joke1  Joke2  Joke3  Joke4  Joke5  Joke6  Joke7  Joke8  Joke9  \\\n",
       "0        74  -7.82   8.79  -9.66  -8.16  -7.52  -8.50  -9.85   4.17  -8.98   \n",
       "1       100   4.08  -0.29   6.36   4.37  -2.38  -9.66  -0.73  -5.34   8.88   \n",
       "2        49  99.00  99.00  99.00  99.00   9.03   9.27   9.03   9.27  99.00   \n",
       "3        48  99.00   8.35  99.00  99.00   1.80   8.16  -2.82   6.21  99.00   \n",
       "4        91   8.50   4.61  -4.17  -5.39   1.36   1.60   7.04   4.61  -0.44   \n",
       "5       100  -6.17  -3.54   0.44  -8.50  -7.09  -4.32  -8.69  -0.87  -6.65   \n",
       "6        47  99.00  99.00  99.00  99.00   8.59  -9.85   7.72   8.79  99.00   \n",
       "7       100   6.84   3.16   9.17  -6.21  -8.16  -1.70   9.27   1.41  -5.19   \n",
       "8       100  -3.79  -3.54  -9.42  -6.89  -8.74  -0.29  -5.29  -8.93  -7.86   \n",
       "9        72   3.01   5.15   5.15   3.01   6.41   5.15   8.93   2.52   3.01   \n",
       "\n",
       "   ...  Joke91  Joke92  Joke93  Joke94  Joke95  Joke96  Joke97  Joke98  \\\n",
       "0  ...    2.82   99.00   99.00   99.00   99.00   99.00   -5.63   99.00   \n",
       "1  ...    2.82   -4.95   -0.29    7.86   -0.19   -2.14    3.06    0.34   \n",
       "2  ...   99.00   99.00   99.00    9.08   99.00   99.00   99.00   99.00   \n",
       "3  ...   99.00   99.00   99.00    0.53   99.00   99.00   99.00   99.00   \n",
       "4  ...    5.19    5.58    4.27    5.19    5.73    1.55    3.11    6.55   \n",
       "5  ...   -3.54   -6.89   -0.68   -2.96   -2.18   -3.35    0.05   -9.08   \n",
       "6  ...   99.00   99.00   99.00   99.00   99.00    2.33   99.00   99.00   \n",
       "7  ...    7.23   -1.12   -0.10   -5.68   -3.16   -3.35    2.14   -0.05   \n",
       "8  ...    4.37   -0.29    4.17   -0.29   -0.29   -0.29   -0.29   -0.29   \n",
       "9  ...   99.00    4.47   99.00   99.00   99.00   99.00   99.00   99.00   \n",
       "\n",
       "   Joke99  Joke100  \n",
       "0   99.00    99.00  \n",
       "1   -4.32     1.07  \n",
       "2   99.00    99.00  \n",
       "3   99.00    99.00  \n",
       "4    1.80     1.60  \n",
       "5   -5.05    -3.45  \n",
       "6   99.00    99.00  \n",
       "7    1.31     0.00  \n",
       "8   -3.40    -4.95  \n",
       "9   99.00    99.00  \n",
       "\n",
       "[10 rows x 101 columns]"
      ]
     },
     "execution_count": 88,
     "metadata": {},
     "output_type": "execute_result"
    }
   ],
   "source": [
    "jokes_df.head(10)"
   ]
  },
  {
   "cell_type": "markdown",
   "metadata": {
    "colab_type": "text",
    "id": "6QEWF8o-SM6t"
   },
   "source": [
    "# Q12 Consider `ratings` named dataframe with only first 200 rows and all columns from 1(first column is 0) of dataset"
   ]
  },
  {
   "cell_type": "code",
   "execution_count": 89,
   "metadata": {
    "colab": {},
    "colab_type": "code",
    "id": "xc0b-lBRSM6u"
   },
   "outputs": [
    {
     "data": {
      "text/plain": [
       "(200, 101)"
      ]
     },
     "execution_count": 89,
     "metadata": {},
     "output_type": "execute_result"
    }
   ],
   "source": [
    "joke_ratings=jokes_df.head(200)\n",
    "joke_ratings.shape"
   ]
  },
  {
   "cell_type": "code",
   "execution_count": 91,
   "metadata": {},
   "outputs": [
    {
     "data": {
      "text/html": [
       "<div>\n",
       "<style scoped>\n",
       "    .dataframe tbody tr th:only-of-type {\n",
       "        vertical-align: middle;\n",
       "    }\n",
       "\n",
       "    .dataframe tbody tr th {\n",
       "        vertical-align: top;\n",
       "    }\n",
       "\n",
       "    .dataframe thead th {\n",
       "        text-align: right;\n",
       "    }\n",
       "</style>\n",
       "<table border=\"1\" class=\"dataframe\">\n",
       "  <thead>\n",
       "    <tr style=\"text-align: right;\">\n",
       "      <th></th>\n",
       "      <th>NumJokes</th>\n",
       "      <th>Joke1</th>\n",
       "      <th>Joke2</th>\n",
       "      <th>Joke3</th>\n",
       "      <th>Joke4</th>\n",
       "      <th>Joke5</th>\n",
       "      <th>Joke6</th>\n",
       "      <th>Joke7</th>\n",
       "      <th>Joke8</th>\n",
       "      <th>Joke9</th>\n",
       "      <th>...</th>\n",
       "      <th>Joke91</th>\n",
       "      <th>Joke92</th>\n",
       "      <th>Joke93</th>\n",
       "      <th>Joke94</th>\n",
       "      <th>Joke95</th>\n",
       "      <th>Joke96</th>\n",
       "      <th>Joke97</th>\n",
       "      <th>Joke98</th>\n",
       "      <th>Joke99</th>\n",
       "      <th>Joke100</th>\n",
       "    </tr>\n",
       "  </thead>\n",
       "  <tbody>\n",
       "    <tr>\n",
       "      <td>0</td>\n",
       "      <td>74</td>\n",
       "      <td>-7.82</td>\n",
       "      <td>8.79</td>\n",
       "      <td>-9.66</td>\n",
       "      <td>-8.16</td>\n",
       "      <td>-7.52</td>\n",
       "      <td>-8.50</td>\n",
       "      <td>-9.85</td>\n",
       "      <td>4.17</td>\n",
       "      <td>-8.98</td>\n",
       "      <td>...</td>\n",
       "      <td>2.82</td>\n",
       "      <td>99.00</td>\n",
       "      <td>99.00</td>\n",
       "      <td>99.00</td>\n",
       "      <td>99.00</td>\n",
       "      <td>99.00</td>\n",
       "      <td>-5.63</td>\n",
       "      <td>99.00</td>\n",
       "      <td>99.00</td>\n",
       "      <td>99.00</td>\n",
       "    </tr>\n",
       "    <tr>\n",
       "      <td>1</td>\n",
       "      <td>100</td>\n",
       "      <td>4.08</td>\n",
       "      <td>-0.29</td>\n",
       "      <td>6.36</td>\n",
       "      <td>4.37</td>\n",
       "      <td>-2.38</td>\n",
       "      <td>-9.66</td>\n",
       "      <td>-0.73</td>\n",
       "      <td>-5.34</td>\n",
       "      <td>8.88</td>\n",
       "      <td>...</td>\n",
       "      <td>2.82</td>\n",
       "      <td>-4.95</td>\n",
       "      <td>-0.29</td>\n",
       "      <td>7.86</td>\n",
       "      <td>-0.19</td>\n",
       "      <td>-2.14</td>\n",
       "      <td>3.06</td>\n",
       "      <td>0.34</td>\n",
       "      <td>-4.32</td>\n",
       "      <td>1.07</td>\n",
       "    </tr>\n",
       "    <tr>\n",
       "      <td>2</td>\n",
       "      <td>49</td>\n",
       "      <td>99.00</td>\n",
       "      <td>99.00</td>\n",
       "      <td>99.00</td>\n",
       "      <td>99.00</td>\n",
       "      <td>9.03</td>\n",
       "      <td>9.27</td>\n",
       "      <td>9.03</td>\n",
       "      <td>9.27</td>\n",
       "      <td>99.00</td>\n",
       "      <td>...</td>\n",
       "      <td>99.00</td>\n",
       "      <td>99.00</td>\n",
       "      <td>99.00</td>\n",
       "      <td>9.08</td>\n",
       "      <td>99.00</td>\n",
       "      <td>99.00</td>\n",
       "      <td>99.00</td>\n",
       "      <td>99.00</td>\n",
       "      <td>99.00</td>\n",
       "      <td>99.00</td>\n",
       "    </tr>\n",
       "    <tr>\n",
       "      <td>3</td>\n",
       "      <td>48</td>\n",
       "      <td>99.00</td>\n",
       "      <td>8.35</td>\n",
       "      <td>99.00</td>\n",
       "      <td>99.00</td>\n",
       "      <td>1.80</td>\n",
       "      <td>8.16</td>\n",
       "      <td>-2.82</td>\n",
       "      <td>6.21</td>\n",
       "      <td>99.00</td>\n",
       "      <td>...</td>\n",
       "      <td>99.00</td>\n",
       "      <td>99.00</td>\n",
       "      <td>99.00</td>\n",
       "      <td>0.53</td>\n",
       "      <td>99.00</td>\n",
       "      <td>99.00</td>\n",
       "      <td>99.00</td>\n",
       "      <td>99.00</td>\n",
       "      <td>99.00</td>\n",
       "      <td>99.00</td>\n",
       "    </tr>\n",
       "    <tr>\n",
       "      <td>4</td>\n",
       "      <td>91</td>\n",
       "      <td>8.50</td>\n",
       "      <td>4.61</td>\n",
       "      <td>-4.17</td>\n",
       "      <td>-5.39</td>\n",
       "      <td>1.36</td>\n",
       "      <td>1.60</td>\n",
       "      <td>7.04</td>\n",
       "      <td>4.61</td>\n",
       "      <td>-0.44</td>\n",
       "      <td>...</td>\n",
       "      <td>5.19</td>\n",
       "      <td>5.58</td>\n",
       "      <td>4.27</td>\n",
       "      <td>5.19</td>\n",
       "      <td>5.73</td>\n",
       "      <td>1.55</td>\n",
       "      <td>3.11</td>\n",
       "      <td>6.55</td>\n",
       "      <td>1.80</td>\n",
       "      <td>1.60</td>\n",
       "    </tr>\n",
       "  </tbody>\n",
       "</table>\n",
       "<p>5 rows × 101 columns</p>\n",
       "</div>"
      ],
      "text/plain": [
       "   NumJokes  Joke1  Joke2  Joke3  Joke4  Joke5  Joke6  Joke7  Joke8  Joke9  \\\n",
       "0        74  -7.82   8.79  -9.66  -8.16  -7.52  -8.50  -9.85   4.17  -8.98   \n",
       "1       100   4.08  -0.29   6.36   4.37  -2.38  -9.66  -0.73  -5.34   8.88   \n",
       "2        49  99.00  99.00  99.00  99.00   9.03   9.27   9.03   9.27  99.00   \n",
       "3        48  99.00   8.35  99.00  99.00   1.80   8.16  -2.82   6.21  99.00   \n",
       "4        91   8.50   4.61  -4.17  -5.39   1.36   1.60   7.04   4.61  -0.44   \n",
       "\n",
       "   ...  Joke91  Joke92  Joke93  Joke94  Joke95  Joke96  Joke97  Joke98  \\\n",
       "0  ...    2.82   99.00   99.00   99.00   99.00   99.00   -5.63   99.00   \n",
       "1  ...    2.82   -4.95   -0.29    7.86   -0.19   -2.14    3.06    0.34   \n",
       "2  ...   99.00   99.00   99.00    9.08   99.00   99.00   99.00   99.00   \n",
       "3  ...   99.00   99.00   99.00    0.53   99.00   99.00   99.00   99.00   \n",
       "4  ...    5.19    5.58    4.27    5.19    5.73    1.55    3.11    6.55   \n",
       "\n",
       "   Joke99  Joke100  \n",
       "0   99.00    99.00  \n",
       "1   -4.32     1.07  \n",
       "2   99.00    99.00  \n",
       "3   99.00    99.00  \n",
       "4    1.80     1.60  \n",
       "\n",
       "[5 rows x 101 columns]"
      ]
     },
     "execution_count": 91,
     "metadata": {},
     "output_type": "execute_result"
    }
   ],
   "source": [
    "joke_ratings.head()"
   ]
  },
  {
   "cell_type": "markdown",
   "metadata": {
    "colab_type": "text",
    "id": "d-0_FGl0SM6-"
   },
   "source": [
    "# Q13 In the dataset, the null ratings are given as 99.00, so replace all 99.00s with 0\n",
    "Hint: You can use `ratings.replace(<the given value>, <new value you wanted to change with>)`"
   ]
  },
  {
   "cell_type": "code",
   "execution_count": 92,
   "metadata": {
    "colab": {},
    "colab_type": "code",
    "id": "veL5hwRLSM6_"
   },
   "outputs": [
    {
     "name": "stderr",
     "output_type": "stream",
     "text": [
      "/opt/anaconda3/lib/python3.7/site-packages/pandas/core/frame.py:4263: SettingWithCopyWarning: \n",
      "A value is trying to be set on a copy of a slice from a DataFrame\n",
      "\n",
      "See the caveats in the documentation: http://pandas.pydata.org/pandas-docs/stable/user_guide/indexing.html#returning-a-view-versus-a-copy\n",
      "  method=method,\n"
     ]
    }
   ],
   "source": [
    "joke_ratings.replace(99.00,0,inplace=True)"
   ]
  },
  {
   "cell_type": "markdown",
   "metadata": {
    "colab_type": "text",
    "id": "bWFmyVobSM7R"
   },
   "source": [
    "### Popularity based recommendation system"
   ]
  },
  {
   "cell_type": "markdown",
   "metadata": {
    "colab_type": "text",
    "id": "T8K_S9ukSM7b"
   },
   "source": [
    "# Q14  Find the mean for each column  in `ratings_diff` i.e, for each joke\n",
    "Consider all the mean ratings and find the jokes with highest mean value and display the top 10 joke IDs."
   ]
  },
  {
   "cell_type": "code",
   "execution_count": 93,
   "metadata": {
    "colab": {},
    "colab_type": "code",
    "id": "usXWscbfSM7c"
   },
   "outputs": [
    {
     "data": {
      "text/plain": [
       "NumJokes    70.11000\n",
       "Joke50       4.05540\n",
       "Joke36       3.61150\n",
       "Joke53       3.57150\n",
       "Joke35       3.22315\n",
       "Joke29       3.18995\n",
       "Joke27       3.05240\n",
       "Joke62       2.86185\n",
       "Joke49       2.85000\n",
       "Joke32       2.77955\n",
       "dtype: float64"
      ]
     },
     "execution_count": 93,
     "metadata": {},
     "output_type": "execute_result"
    }
   ],
   "source": [
    "#ratings.pop('NumJokes')\n",
    "joke_ratings.mean().sort_values(ascending=False).head(10)"
   ]
  },
  {
   "cell_type": "code",
   "execution_count": 0,
   "metadata": {
    "colab": {},
    "colab_type": "code",
    "id": "CFIy5Ky4SM7h"
   },
   "outputs": [],
   "source": []
  }
 ],
 "metadata": {
  "colab": {
   "collapsed_sections": [
    "9hxe7D9BWCx-",
    "lmMHMAtkWCzm",
    "vbZ-YcsdWCzz",
    "-2KqQg2KWCz7",
    "x8YxQPNGWC0e",
    "8L-IGI0QWC0t",
    "HnHXocYbSM6n",
    "6QEWF8o-SM6t",
    "bWFmyVobSM7R"
   ],
   "name": "R5_Internal_Lab_PCA_PBRS.ipynb",
   "provenance": []
  },
  "kernelspec": {
   "display_name": "Python 3",
   "language": "python",
   "name": "python3"
  },
  "language_info": {
   "codemirror_mode": {
    "name": "ipython",
    "version": 3
   },
   "file_extension": ".py",
   "mimetype": "text/x-python",
   "name": "python",
   "nbconvert_exporter": "python",
   "pygments_lexer": "ipython3",
   "version": "3.7.4"
  }
 },
 "nbformat": 4,
 "nbformat_minor": 1
}
